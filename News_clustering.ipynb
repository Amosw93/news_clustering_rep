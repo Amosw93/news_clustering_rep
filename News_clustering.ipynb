{
 "cells": [
  {
   "cell_type": "markdown",
   "id": "53d2c8a2-0581-45f9-969e-4c7ec50d41f9",
   "metadata": {},
   "source": [
    "# Dataset preparation for news clustering"
   ]
  },
  {
   "cell_type": "markdown",
   "id": "85853425-c3fc-4dea-9d7f-2c0f706ac285",
   "metadata": {},
   "source": [
    "# Introduction"
   ]
  },
  {
   "cell_type": "markdown",
   "id": "6494a708-3ea7-44a9-aac0-8d3b9f8a2558",
   "metadata": {},
   "source": [
    "The project aims to provide the dataset for clustering news together with same topic."
   ]
  },
  {
   "cell_type": "code",
   "execution_count": 295,
   "id": "027867cc-abe2-4302-9869-17c5b29cdc80",
   "metadata": {},
   "outputs": [],
   "source": [
    "# Reading the news data\n",
    "import pandas as pd\n",
    "\n",
    "file_path = \"/Users/amosmbp14/Jupyter notebook/News_classifier/dataset/rel_model_news.xlsx\"\n",
    "df_news = pd.read_excel(file_path)"
   ]
  },
  {
   "cell_type": "code",
   "execution_count": 296,
   "id": "e0e7e6f8-d363-46b6-b404-c462dca0d96b",
   "metadata": {},
   "outputs": [
    {
     "data": {
      "text/plain": [
       "(818, 24)"
      ]
     },
     "execution_count": 296,
     "metadata": {},
     "output_type": "execute_result"
    }
   ],
   "source": [
    "# showing the dimension of the dataset\n",
    "df_news.shape"
   ]
  },
  {
   "cell_type": "code",
   "execution_count": 297,
   "id": "991718d1-8fad-488f-bc74-86ab6dd9f232",
   "metadata": {},
   "outputs": [
    {
     "data": {
      "text/plain": [
       "Index(['date', 'title', 'body', 'url', 'nb_model_preds',\n",
       "       'relevancy (yes =1, no=0)', 'scrap fully (Y/N)', 'uri', 'lang',\n",
       "       'isDuplicate', 'time', 'dateTime', 'dateTimePub', 'dataType', 'sim',\n",
       "       'source', 'authors', 'image', 'eventUri', 'sentiment', 'wgt',\n",
       "       'relevance', 'sourceTitle', 'sourceUri'],\n",
       "      dtype='object')"
      ]
     },
     "execution_count": 297,
     "metadata": {},
     "output_type": "execute_result"
    }
   ],
   "source": [
    "# showing the columns name\n",
    "df_news.columns"
   ]
  },
  {
   "cell_type": "code",
   "execution_count": 298,
   "id": "c546cb8b-531d-4da3-8ddb-03f6933361da",
   "metadata": {},
   "outputs": [
    {
     "data": {
      "text/plain": [
       "isDuplicate\n",
       "False    818\n",
       "Name: count, dtype: int64"
      ]
     },
     "execution_count": 298,
     "metadata": {},
     "output_type": "execute_result"
    }
   ],
   "source": [
    "# Extracting necessary column for clustering\n",
    "dataset = df_news[[\"date\",\"title\",\"body\", \"isDuplicate\"]].copy()\n",
    "\n",
    "# Filtering out any duplicated news in the dataset\n",
    "duplicate_count = dataset['isDuplicate'].value_counts()\n",
    "duplicate_count"
   ]
  },
  {
   "cell_type": "markdown",
   "id": "5707873e-b470-46ab-8026-6bf2da94db84",
   "metadata": {},
   "source": [
    "Comment: No duplicated news. Next, it is going to create some functions to extract different types of keywords for clustering."
   ]
  },
  {
   "cell_type": "markdown",
   "id": "fdc741ca-4bbc-4825-a59e-83ab5a414274",
   "metadata": {},
   "source": [
    "# Generating news summary"
   ]
  },
  {
   "cell_type": "markdown",
   "id": "46b24b1b-8773-4d5b-ab61-b8f64c89fc87",
   "metadata": {},
   "source": [
    "This part aims to generate summary to extract the main meaning of the news. It could reduce the noise by using the original body of news for clustering."
   ]
  },
  {
   "cell_type": "code",
   "execution_count": 299,
   "id": "75c7102a-992d-454e-9b5e-b33df78a7f42",
   "metadata": {},
   "outputs": [],
   "source": [
    "sum_df = dataset.copy()\n",
    "sum_df1 = sum_df[['date','title','body']].copy()"
   ]
  },
  {
   "cell_type": "code",
   "execution_count": 300,
   "id": "b4acf614-34a8-4e6a-98f9-695209c355a7",
   "metadata": {},
   "outputs": [
    {
     "name": "stderr",
     "output_type": "stream",
     "text": [
      "/Users/amosmbp14/opt/anaconda3/envs/pytorch_transformers_spacy/lib/python3.9/site-packages/tqdm/auto.py:21: TqdmWarning: IProgress not found. Please update jupyter and ipywidgets. See https://ipywidgets.readthedocs.io/en/stable/user_install.html\n",
      "  from .autonotebook import tqdm as notebook_tqdm\n"
     ]
    }
   ],
   "source": [
    "from transformers import pipeline\n",
    "\n",
    "summarizer = pipeline(\"summarization\", \n",
    "                      model = \"/Users/amosmbp14/Jupyter notebook/Text_sum/t5_base_models\")"
   ]
  },
  {
   "cell_type": "code",
   "execution_count": 304,
   "id": "2d692439-b947-41ec-ba7b-1512bdb655b2",
   "metadata": {},
   "outputs": [
    {
     "name": "stderr",
     "output_type": "stream",
     "text": [
      "Your max_length is set to 200, but your input_length is only 72. Since this is a summarization task, where outputs shorter than the input are typically wanted, you might consider decreasing max_length manually, e.g. summarizer('...', max_length=36)\n",
      "Your max_length is set to 200, but your input_length is only 70. Since this is a summarization task, where outputs shorter than the input are typically wanted, you might consider decreasing max_length manually, e.g. summarizer('...', max_length=35)\n",
      "Your max_length is set to 200, but your input_length is only 100. Since this is a summarization task, where outputs shorter than the input are typically wanted, you might consider decreasing max_length manually, e.g. summarizer('...', max_length=50)\n",
      "Your max_length is set to 200, but your input_length is only 126. Since this is a summarization task, where outputs shorter than the input are typically wanted, you might consider decreasing max_length manually, e.g. summarizer('...', max_length=63)\n",
      "Your max_length is set to 200, but your input_length is only 79. Since this is a summarization task, where outputs shorter than the input are typically wanted, you might consider decreasing max_length manually, e.g. summarizer('...', max_length=39)\n",
      "Your max_length is set to 200, but your input_length is only 67. Since this is a summarization task, where outputs shorter than the input are typically wanted, you might consider decreasing max_length manually, e.g. summarizer('...', max_length=33)\n",
      "Your max_length is set to 200, but your input_length is only 91. Since this is a summarization task, where outputs shorter than the input are typically wanted, you might consider decreasing max_length manually, e.g. summarizer('...', max_length=45)\n",
      "Your max_length is set to 200, but your input_length is only 187. Since this is a summarization task, where outputs shorter than the input are typically wanted, you might consider decreasing max_length manually, e.g. summarizer('...', max_length=93)\n",
      "Your max_length is set to 200, but your input_length is only 81. Since this is a summarization task, where outputs shorter than the input are typically wanted, you might consider decreasing max_length manually, e.g. summarizer('...', max_length=40)\n",
      "Your max_length is set to 200, but your input_length is only 144. Since this is a summarization task, where outputs shorter than the input are typically wanted, you might consider decreasing max_length manually, e.g. summarizer('...', max_length=72)\n",
      "Your max_length is set to 200, but your input_length is only 120. Since this is a summarization task, where outputs shorter than the input are typically wanted, you might consider decreasing max_length manually, e.g. summarizer('...', max_length=60)\n",
      "Your max_length is set to 200, but your input_length is only 51. Since this is a summarization task, where outputs shorter than the input are typically wanted, you might consider decreasing max_length manually, e.g. summarizer('...', max_length=25)\n",
      "Your max_length is set to 200, but your input_length is only 52. Since this is a summarization task, where outputs shorter than the input are typically wanted, you might consider decreasing max_length manually, e.g. summarizer('...', max_length=26)\n",
      "Your max_length is set to 200, but your input_length is only 61. Since this is a summarization task, where outputs shorter than the input are typically wanted, you might consider decreasing max_length manually, e.g. summarizer('...', max_length=30)\n",
      "Your max_length is set to 200, but your input_length is only 62. Since this is a summarization task, where outputs shorter than the input are typically wanted, you might consider decreasing max_length manually, e.g. summarizer('...', max_length=31)\n",
      "Your max_length is set to 200, but your input_length is only 83. Since this is a summarization task, where outputs shorter than the input are typically wanted, you might consider decreasing max_length manually, e.g. summarizer('...', max_length=41)\n",
      "Your max_length is set to 200, but your input_length is only 66. Since this is a summarization task, where outputs shorter than the input are typically wanted, you might consider decreasing max_length manually, e.g. summarizer('...', max_length=33)\n",
      "Your max_length is set to 200, but your input_length is only 100. Since this is a summarization task, where outputs shorter than the input are typically wanted, you might consider decreasing max_length manually, e.g. summarizer('...', max_length=50)\n",
      "Your max_length is set to 200, but your input_length is only 57. Since this is a summarization task, where outputs shorter than the input are typically wanted, you might consider decreasing max_length manually, e.g. summarizer('...', max_length=28)\n",
      "Your max_length is set to 200, but your input_length is only 65. Since this is a summarization task, where outputs shorter than the input are typically wanted, you might consider decreasing max_length manually, e.g. summarizer('...', max_length=32)\n",
      "Your max_length is set to 200, but your input_length is only 64. Since this is a summarization task, where outputs shorter than the input are typically wanted, you might consider decreasing max_length manually, e.g. summarizer('...', max_length=32)\n",
      "Your max_length is set to 200, but your input_length is only 111. Since this is a summarization task, where outputs shorter than the input are typically wanted, you might consider decreasing max_length manually, e.g. summarizer('...', max_length=55)\n",
      "Your max_length is set to 200, but your input_length is only 98. Since this is a summarization task, where outputs shorter than the input are typically wanted, you might consider decreasing max_length manually, e.g. summarizer('...', max_length=49)\n",
      "Your max_length is set to 200, but your input_length is only 153. Since this is a summarization task, where outputs shorter than the input are typically wanted, you might consider decreasing max_length manually, e.g. summarizer('...', max_length=76)\n",
      "Your max_length is set to 200, but your input_length is only 172. Since this is a summarization task, where outputs shorter than the input are typically wanted, you might consider decreasing max_length manually, e.g. summarizer('...', max_length=86)\n",
      "Your max_length is set to 200, but your input_length is only 80. Since this is a summarization task, where outputs shorter than the input are typically wanted, you might consider decreasing max_length manually, e.g. summarizer('...', max_length=40)\n",
      "Your max_length is set to 200, but your input_length is only 138. Since this is a summarization task, where outputs shorter than the input are typically wanted, you might consider decreasing max_length manually, e.g. summarizer('...', max_length=69)\n",
      "Your max_length is set to 200, but your input_length is only 93. Since this is a summarization task, where outputs shorter than the input are typically wanted, you might consider decreasing max_length manually, e.g. summarizer('...', max_length=46)\n",
      "Your max_length is set to 200, but your input_length is only 178. Since this is a summarization task, where outputs shorter than the input are typically wanted, you might consider decreasing max_length manually, e.g. summarizer('...', max_length=89)\n",
      "Your max_length is set to 200, but your input_length is only 92. Since this is a summarization task, where outputs shorter than the input are typically wanted, you might consider decreasing max_length manually, e.g. summarizer('...', max_length=46)\n",
      "Your max_length is set to 200, but your input_length is only 134. Since this is a summarization task, where outputs shorter than the input are typically wanted, you might consider decreasing max_length manually, e.g. summarizer('...', max_length=67)\n",
      "Your max_length is set to 200, but your input_length is only 112. Since this is a summarization task, where outputs shorter than the input are typically wanted, you might consider decreasing max_length manually, e.g. summarizer('...', max_length=56)\n",
      "Your max_length is set to 200, but your input_length is only 129. Since this is a summarization task, where outputs shorter than the input are typically wanted, you might consider decreasing max_length manually, e.g. summarizer('...', max_length=64)\n",
      "Your max_length is set to 200, but your input_length is only 149. Since this is a summarization task, where outputs shorter than the input are typically wanted, you might consider decreasing max_length manually, e.g. summarizer('...', max_length=74)\n",
      "Your max_length is set to 200, but your input_length is only 151. Since this is a summarization task, where outputs shorter than the input are typically wanted, you might consider decreasing max_length manually, e.g. summarizer('...', max_length=75)\n",
      "Your max_length is set to 200, but your input_length is only 121. Since this is a summarization task, where outputs shorter than the input are typically wanted, you might consider decreasing max_length manually, e.g. summarizer('...', max_length=60)\n",
      "Your max_length is set to 200, but your input_length is only 127. Since this is a summarization task, where outputs shorter than the input are typically wanted, you might consider decreasing max_length manually, e.g. summarizer('...', max_length=63)\n",
      "Your max_length is set to 200, but your input_length is only 125. Since this is a summarization task, where outputs shorter than the input are typically wanted, you might consider decreasing max_length manually, e.g. summarizer('...', max_length=62)\n",
      "Your max_length is set to 200, but your input_length is only 118. Since this is a summarization task, where outputs shorter than the input are typically wanted, you might consider decreasing max_length manually, e.g. summarizer('...', max_length=59)\n",
      "Your max_length is set to 200, but your input_length is only 153. Since this is a summarization task, where outputs shorter than the input are typically wanted, you might consider decreasing max_length manually, e.g. summarizer('...', max_length=76)\n",
      "Your max_length is set to 200, but your input_length is only 147. Since this is a summarization task, where outputs shorter than the input are typically wanted, you might consider decreasing max_length manually, e.g. summarizer('...', max_length=73)\n",
      "Your max_length is set to 200, but your input_length is only 189. Since this is a summarization task, where outputs shorter than the input are typically wanted, you might consider decreasing max_length manually, e.g. summarizer('...', max_length=94)\n",
      "Your max_length is set to 200, but your input_length is only 137. Since this is a summarization task, where outputs shorter than the input are typically wanted, you might consider decreasing max_length manually, e.g. summarizer('...', max_length=68)\n",
      "Your max_length is set to 200, but your input_length is only 166. Since this is a summarization task, where outputs shorter than the input are typically wanted, you might consider decreasing max_length manually, e.g. summarizer('...', max_length=83)\n",
      "Your max_length is set to 200, but your input_length is only 183. Since this is a summarization task, where outputs shorter than the input are typically wanted, you might consider decreasing max_length manually, e.g. summarizer('...', max_length=91)\n",
      "Your max_length is set to 200, but your input_length is only 137. Since this is a summarization task, where outputs shorter than the input are typically wanted, you might consider decreasing max_length manually, e.g. summarizer('...', max_length=68)\n",
      "Your max_length is set to 200, but your input_length is only 118. Since this is a summarization task, where outputs shorter than the input are typically wanted, you might consider decreasing max_length manually, e.g. summarizer('...', max_length=59)\n",
      "Your max_length is set to 200, but your input_length is only 105. Since this is a summarization task, where outputs shorter than the input are typically wanted, you might consider decreasing max_length manually, e.g. summarizer('...', max_length=52)\n",
      "Your max_length is set to 200, but your input_length is only 111. Since this is a summarization task, where outputs shorter than the input are typically wanted, you might consider decreasing max_length manually, e.g. summarizer('...', max_length=55)\n",
      "Your max_length is set to 200, but your input_length is only 98. Since this is a summarization task, where outputs shorter than the input are typically wanted, you might consider decreasing max_length manually, e.g. summarizer('...', max_length=49)\n",
      "Your max_length is set to 200, but your input_length is only 198. Since this is a summarization task, where outputs shorter than the input are typically wanted, you might consider decreasing max_length manually, e.g. summarizer('...', max_length=99)\n",
      "Your max_length is set to 200, but your input_length is only 114. Since this is a summarization task, where outputs shorter than the input are typically wanted, you might consider decreasing max_length manually, e.g. summarizer('...', max_length=57)\n",
      "Your max_length is set to 200, but your input_length is only 147. Since this is a summarization task, where outputs shorter than the input are typically wanted, you might consider decreasing max_length manually, e.g. summarizer('...', max_length=73)\n",
      "Your max_length is set to 200, but your input_length is only 99. Since this is a summarization task, where outputs shorter than the input are typically wanted, you might consider decreasing max_length manually, e.g. summarizer('...', max_length=49)\n",
      "Your max_length is set to 200, but your input_length is only 130. Since this is a summarization task, where outputs shorter than the input are typically wanted, you might consider decreasing max_length manually, e.g. summarizer('...', max_length=65)\n",
      "Your max_length is set to 200, but your input_length is only 131. Since this is a summarization task, where outputs shorter than the input are typically wanted, you might consider decreasing max_length manually, e.g. summarizer('...', max_length=65)\n",
      "Your max_length is set to 200, but your input_length is only 99. Since this is a summarization task, where outputs shorter than the input are typically wanted, you might consider decreasing max_length manually, e.g. summarizer('...', max_length=49)\n",
      "Your max_length is set to 200, but your input_length is only 158. Since this is a summarization task, where outputs shorter than the input are typically wanted, you might consider decreasing max_length manually, e.g. summarizer('...', max_length=79)\n",
      "Your max_length is set to 200, but your input_length is only 138. Since this is a summarization task, where outputs shorter than the input are typically wanted, you might consider decreasing max_length manually, e.g. summarizer('...', max_length=69)\n",
      "Your max_length is set to 200, but your input_length is only 139. Since this is a summarization task, where outputs shorter than the input are typically wanted, you might consider decreasing max_length manually, e.g. summarizer('...', max_length=69)\n",
      "Your max_length is set to 200, but your input_length is only 140. Since this is a summarization task, where outputs shorter than the input are typically wanted, you might consider decreasing max_length manually, e.g. summarizer('...', max_length=70)\n",
      "Your max_length is set to 200, but your input_length is only 165. Since this is a summarization task, where outputs shorter than the input are typically wanted, you might consider decreasing max_length manually, e.g. summarizer('...', max_length=82)\n",
      "Your max_length is set to 200, but your input_length is only 104. Since this is a summarization task, where outputs shorter than the input are typically wanted, you might consider decreasing max_length manually, e.g. summarizer('...', max_length=52)\n",
      "Your max_length is set to 200, but your input_length is only 145. Since this is a summarization task, where outputs shorter than the input are typically wanted, you might consider decreasing max_length manually, e.g. summarizer('...', max_length=72)\n",
      "Your max_length is set to 200, but your input_length is only 164. Since this is a summarization task, where outputs shorter than the input are typically wanted, you might consider decreasing max_length manually, e.g. summarizer('...', max_length=82)\n",
      "Your max_length is set to 200, but your input_length is only 139. Since this is a summarization task, where outputs shorter than the input are typically wanted, you might consider decreasing max_length manually, e.g. summarizer('...', max_length=69)\n",
      "Your max_length is set to 200, but your input_length is only 113. Since this is a summarization task, where outputs shorter than the input are typically wanted, you might consider decreasing max_length manually, e.g. summarizer('...', max_length=56)\n",
      "Your max_length is set to 200, but your input_length is only 169. Since this is a summarization task, where outputs shorter than the input are typically wanted, you might consider decreasing max_length manually, e.g. summarizer('...', max_length=84)\n",
      "Your max_length is set to 200, but your input_length is only 145. Since this is a summarization task, where outputs shorter than the input are typically wanted, you might consider decreasing max_length manually, e.g. summarizer('...', max_length=72)\n",
      "Your max_length is set to 200, but your input_length is only 97. Since this is a summarization task, where outputs shorter than the input are typically wanted, you might consider decreasing max_length manually, e.g. summarizer('...', max_length=48)\n",
      "Your max_length is set to 200, but your input_length is only 130. Since this is a summarization task, where outputs shorter than the input are typically wanted, you might consider decreasing max_length manually, e.g. summarizer('...', max_length=65)\n",
      "Your max_length is set to 200, but your input_length is only 126. Since this is a summarization task, where outputs shorter than the input are typically wanted, you might consider decreasing max_length manually, e.g. summarizer('...', max_length=63)\n",
      "Your max_length is set to 200, but your input_length is only 149. Since this is a summarization task, where outputs shorter than the input are typically wanted, you might consider decreasing max_length manually, e.g. summarizer('...', max_length=74)\n",
      "Your max_length is set to 200, but your input_length is only 169. Since this is a summarization task, where outputs shorter than the input are typically wanted, you might consider decreasing max_length manually, e.g. summarizer('...', max_length=84)\n",
      "Your max_length is set to 200, but your input_length is only 195. Since this is a summarization task, where outputs shorter than the input are typically wanted, you might consider decreasing max_length manually, e.g. summarizer('...', max_length=97)\n",
      "Your max_length is set to 200, but your input_length is only 173. Since this is a summarization task, where outputs shorter than the input are typically wanted, you might consider decreasing max_length manually, e.g. summarizer('...', max_length=86)\n",
      "Your max_length is set to 200, but your input_length is only 192. Since this is a summarization task, where outputs shorter than the input are typically wanted, you might consider decreasing max_length manually, e.g. summarizer('...', max_length=96)\n",
      "Your max_length is set to 200, but your input_length is only 149. Since this is a summarization task, where outputs shorter than the input are typically wanted, you might consider decreasing max_length manually, e.g. summarizer('...', max_length=74)\n",
      "Your max_length is set to 200, but your input_length is only 187. Since this is a summarization task, where outputs shorter than the input are typically wanted, you might consider decreasing max_length manually, e.g. summarizer('...', max_length=93)\n",
      "Your max_length is set to 200, but your input_length is only 164. Since this is a summarization task, where outputs shorter than the input are typically wanted, you might consider decreasing max_length manually, e.g. summarizer('...', max_length=82)\n",
      "Your max_length is set to 200, but your input_length is only 143. Since this is a summarization task, where outputs shorter than the input are typically wanted, you might consider decreasing max_length manually, e.g. summarizer('...', max_length=71)\n",
      "Your max_length is set to 200, but your input_length is only 182. Since this is a summarization task, where outputs shorter than the input are typically wanted, you might consider decreasing max_length manually, e.g. summarizer('...', max_length=91)\n",
      "Your max_length is set to 200, but your input_length is only 172. Since this is a summarization task, where outputs shorter than the input are typically wanted, you might consider decreasing max_length manually, e.g. summarizer('...', max_length=86)\n",
      "Your max_length is set to 200, but your input_length is only 152. Since this is a summarization task, where outputs shorter than the input are typically wanted, you might consider decreasing max_length manually, e.g. summarizer('...', max_length=76)\n",
      "Your max_length is set to 200, but your input_length is only 172. Since this is a summarization task, where outputs shorter than the input are typically wanted, you might consider decreasing max_length manually, e.g. summarizer('...', max_length=86)\n",
      "Your max_length is set to 200, but your input_length is only 173. Since this is a summarization task, where outputs shorter than the input are typically wanted, you might consider decreasing max_length manually, e.g. summarizer('...', max_length=86)\n",
      "Your max_length is set to 200, but your input_length is only 178. Since this is a summarization task, where outputs shorter than the input are typically wanted, you might consider decreasing max_length manually, e.g. summarizer('...', max_length=89)\n",
      "Your max_length is set to 200, but your input_length is only 177. Since this is a summarization task, where outputs shorter than the input are typically wanted, you might consider decreasing max_length manually, e.g. summarizer('...', max_length=88)\n",
      "Your max_length is set to 200, but your input_length is only 196. Since this is a summarization task, where outputs shorter than the input are typically wanted, you might consider decreasing max_length manually, e.g. summarizer('...', max_length=98)\n",
      "Your max_length is set to 200, but your input_length is only 157. Since this is a summarization task, where outputs shorter than the input are typically wanted, you might consider decreasing max_length manually, e.g. summarizer('...', max_length=78)\n",
      "Your max_length is set to 200, but your input_length is only 173. Since this is a summarization task, where outputs shorter than the input are typically wanted, you might consider decreasing max_length manually, e.g. summarizer('...', max_length=86)\n",
      "Your max_length is set to 200, but your input_length is only 167. Since this is a summarization task, where outputs shorter than the input are typically wanted, you might consider decreasing max_length manually, e.g. summarizer('...', max_length=83)\n",
      "Your max_length is set to 200, but your input_length is only 180. Since this is a summarization task, where outputs shorter than the input are typically wanted, you might consider decreasing max_length manually, e.g. summarizer('...', max_length=90)\n",
      "Your max_length is set to 200, but your input_length is only 166. Since this is a summarization task, where outputs shorter than the input are typically wanted, you might consider decreasing max_length manually, e.g. summarizer('...', max_length=83)\n",
      "Your max_length is set to 200, but your input_length is only 189. Since this is a summarization task, where outputs shorter than the input are typically wanted, you might consider decreasing max_length manually, e.g. summarizer('...', max_length=94)\n",
      "Your max_length is set to 200, but your input_length is only 199. Since this is a summarization task, where outputs shorter than the input are typically wanted, you might consider decreasing max_length manually, e.g. summarizer('...', max_length=99)\n",
      "Your max_length is set to 200, but your input_length is only 174. Since this is a summarization task, where outputs shorter than the input are typically wanted, you might consider decreasing max_length manually, e.g. summarizer('...', max_length=87)\n",
      "Your max_length is set to 200, but your input_length is only 175. Since this is a summarization task, where outputs shorter than the input are typically wanted, you might consider decreasing max_length manually, e.g. summarizer('...', max_length=87)\n",
      "Your max_length is set to 200, but your input_length is only 188. Since this is a summarization task, where outputs shorter than the input are typically wanted, you might consider decreasing max_length manually, e.g. summarizer('...', max_length=94)\n",
      "Your max_length is set to 200, but your input_length is only 168. Since this is a summarization task, where outputs shorter than the input are typically wanted, you might consider decreasing max_length manually, e.g. summarizer('...', max_length=84)\n",
      "Your max_length is set to 200, but your input_length is only 152. Since this is a summarization task, where outputs shorter than the input are typically wanted, you might consider decreasing max_length manually, e.g. summarizer('...', max_length=76)\n",
      "Your max_length is set to 200, but your input_length is only 143. Since this is a summarization task, where outputs shorter than the input are typically wanted, you might consider decreasing max_length manually, e.g. summarizer('...', max_length=71)\n",
      "Your max_length is set to 200, but your input_length is only 160. Since this is a summarization task, where outputs shorter than the input are typically wanted, you might consider decreasing max_length manually, e.g. summarizer('...', max_length=80)\n",
      "Your max_length is set to 200, but your input_length is only 174. Since this is a summarization task, where outputs shorter than the input are typically wanted, you might consider decreasing max_length manually, e.g. summarizer('...', max_length=87)\n",
      "Your max_length is set to 200, but your input_length is only 188. Since this is a summarization task, where outputs shorter than the input are typically wanted, you might consider decreasing max_length manually, e.g. summarizer('...', max_length=94)\n",
      "Your max_length is set to 200, but your input_length is only 193. Since this is a summarization task, where outputs shorter than the input are typically wanted, you might consider decreasing max_length manually, e.g. summarizer('...', max_length=96)\n",
      "Your max_length is set to 200, but your input_length is only 181. Since this is a summarization task, where outputs shorter than the input are typically wanted, you might consider decreasing max_length manually, e.g. summarizer('...', max_length=90)\n",
      "Your max_length is set to 200, but your input_length is only 187. Since this is a summarization task, where outputs shorter than the input are typically wanted, you might consider decreasing max_length manually, e.g. summarizer('...', max_length=93)\n",
      "Your max_length is set to 200, but your input_length is only 152. Since this is a summarization task, where outputs shorter than the input are typically wanted, you might consider decreasing max_length manually, e.g. summarizer('...', max_length=76)\n",
      "Your max_length is set to 200, but your input_length is only 167. Since this is a summarization task, where outputs shorter than the input are typically wanted, you might consider decreasing max_length manually, e.g. summarizer('...', max_length=83)\n",
      "Your max_length is set to 200, but your input_length is only 169. Since this is a summarization task, where outputs shorter than the input are typically wanted, you might consider decreasing max_length manually, e.g. summarizer('...', max_length=84)\n",
      "Your max_length is set to 200, but your input_length is only 163. Since this is a summarization task, where outputs shorter than the input are typically wanted, you might consider decreasing max_length manually, e.g. summarizer('...', max_length=81)\n",
      "Your max_length is set to 200, but your input_length is only 149. Since this is a summarization task, where outputs shorter than the input are typically wanted, you might consider decreasing max_length manually, e.g. summarizer('...', max_length=74)\n",
      "Your max_length is set to 200, but your input_length is only 123. Since this is a summarization task, where outputs shorter than the input are typically wanted, you might consider decreasing max_length manually, e.g. summarizer('...', max_length=61)\n",
      "Your max_length is set to 200, but your input_length is only 180. Since this is a summarization task, where outputs shorter than the input are typically wanted, you might consider decreasing max_length manually, e.g. summarizer('...', max_length=90)\n",
      "Your max_length is set to 200, but your input_length is only 142. Since this is a summarization task, where outputs shorter than the input are typically wanted, you might consider decreasing max_length manually, e.g. summarizer('...', max_length=71)\n",
      "Your max_length is set to 200, but your input_length is only 140. Since this is a summarization task, where outputs shorter than the input are typically wanted, you might consider decreasing max_length manually, e.g. summarizer('...', max_length=70)\n",
      "Your max_length is set to 200, but your input_length is only 116. Since this is a summarization task, where outputs shorter than the input are typically wanted, you might consider decreasing max_length manually, e.g. summarizer('...', max_length=58)\n",
      "Your max_length is set to 200, but your input_length is only 168. Since this is a summarization task, where outputs shorter than the input are typically wanted, you might consider decreasing max_length manually, e.g. summarizer('...', max_length=84)\n",
      "Your max_length is set to 200, but your input_length is only 176. Since this is a summarization task, where outputs shorter than the input are typically wanted, you might consider decreasing max_length manually, e.g. summarizer('...', max_length=88)\n",
      "Your max_length is set to 200, but your input_length is only 142. Since this is a summarization task, where outputs shorter than the input are typically wanted, you might consider decreasing max_length manually, e.g. summarizer('...', max_length=71)\n",
      "Your max_length is set to 200, but your input_length is only 104. Since this is a summarization task, where outputs shorter than the input are typically wanted, you might consider decreasing max_length manually, e.g. summarizer('...', max_length=52)\n",
      "Your max_length is set to 200, but your input_length is only 116. Since this is a summarization task, where outputs shorter than the input are typically wanted, you might consider decreasing max_length manually, e.g. summarizer('...', max_length=58)\n",
      "Your max_length is set to 200, but your input_length is only 110. Since this is a summarization task, where outputs shorter than the input are typically wanted, you might consider decreasing max_length manually, e.g. summarizer('...', max_length=55)\n",
      "Your max_length is set to 200, but your input_length is only 110. Since this is a summarization task, where outputs shorter than the input are typically wanted, you might consider decreasing max_length manually, e.g. summarizer('...', max_length=55)\n",
      "Your max_length is set to 200, but your input_length is only 115. Since this is a summarization task, where outputs shorter than the input are typically wanted, you might consider decreasing max_length manually, e.g. summarizer('...', max_length=57)\n",
      "Your max_length is set to 200, but your input_length is only 100. Since this is a summarization task, where outputs shorter than the input are typically wanted, you might consider decreasing max_length manually, e.g. summarizer('...', max_length=50)\n",
      "Your max_length is set to 200, but your input_length is only 135. Since this is a summarization task, where outputs shorter than the input are typically wanted, you might consider decreasing max_length manually, e.g. summarizer('...', max_length=67)\n",
      "Your max_length is set to 200, but your input_length is only 166. Since this is a summarization task, where outputs shorter than the input are typically wanted, you might consider decreasing max_length manually, e.g. summarizer('...', max_length=83)\n",
      "Your max_length is set to 200, but your input_length is only 191. Since this is a summarization task, where outputs shorter than the input are typically wanted, you might consider decreasing max_length manually, e.g. summarizer('...', max_length=95)\n",
      "Your max_length is set to 200, but your input_length is only 123. Since this is a summarization task, where outputs shorter than the input are typically wanted, you might consider decreasing max_length manually, e.g. summarizer('...', max_length=61)\n",
      "Your max_length is set to 200, but your input_length is only 123. Since this is a summarization task, where outputs shorter than the input are typically wanted, you might consider decreasing max_length manually, e.g. summarizer('...', max_length=61)\n",
      "Your max_length is set to 200, but your input_length is only 106. Since this is a summarization task, where outputs shorter than the input are typically wanted, you might consider decreasing max_length manually, e.g. summarizer('...', max_length=53)\n",
      "Your max_length is set to 200, but your input_length is only 144. Since this is a summarization task, where outputs shorter than the input are typically wanted, you might consider decreasing max_length manually, e.g. summarizer('...', max_length=72)\n",
      "Your max_length is set to 200, but your input_length is only 122. Since this is a summarization task, where outputs shorter than the input are typically wanted, you might consider decreasing max_length manually, e.g. summarizer('...', max_length=61)\n",
      "Your max_length is set to 200, but your input_length is only 125. Since this is a summarization task, where outputs shorter than the input are typically wanted, you might consider decreasing max_length manually, e.g. summarizer('...', max_length=62)\n",
      "Your max_length is set to 200, but your input_length is only 110. Since this is a summarization task, where outputs shorter than the input are typically wanted, you might consider decreasing max_length manually, e.g. summarizer('...', max_length=55)\n",
      "Your max_length is set to 200, but your input_length is only 136. Since this is a summarization task, where outputs shorter than the input are typically wanted, you might consider decreasing max_length manually, e.g. summarizer('...', max_length=68)\n",
      "Your max_length is set to 200, but your input_length is only 100. Since this is a summarization task, where outputs shorter than the input are typically wanted, you might consider decreasing max_length manually, e.g. summarizer('...', max_length=50)\n",
      "Your max_length is set to 200, but your input_length is only 134. Since this is a summarization task, where outputs shorter than the input are typically wanted, you might consider decreasing max_length manually, e.g. summarizer('...', max_length=67)\n",
      "Your max_length is set to 200, but your input_length is only 106. Since this is a summarization task, where outputs shorter than the input are typically wanted, you might consider decreasing max_length manually, e.g. summarizer('...', max_length=53)\n",
      "Your max_length is set to 200, but your input_length is only 98. Since this is a summarization task, where outputs shorter than the input are typically wanted, you might consider decreasing max_length manually, e.g. summarizer('...', max_length=49)\n",
      "Your max_length is set to 200, but your input_length is only 132. Since this is a summarization task, where outputs shorter than the input are typically wanted, you might consider decreasing max_length manually, e.g. summarizer('...', max_length=66)\n",
      "Your max_length is set to 200, but your input_length is only 119. Since this is a summarization task, where outputs shorter than the input are typically wanted, you might consider decreasing max_length manually, e.g. summarizer('...', max_length=59)\n",
      "Your max_length is set to 200, but your input_length is only 107. Since this is a summarization task, where outputs shorter than the input are typically wanted, you might consider decreasing max_length manually, e.g. summarizer('...', max_length=53)\n",
      "Your max_length is set to 200, but your input_length is only 138. Since this is a summarization task, where outputs shorter than the input are typically wanted, you might consider decreasing max_length manually, e.g. summarizer('...', max_length=69)\n",
      "Your max_length is set to 200, but your input_length is only 71. Since this is a summarization task, where outputs shorter than the input are typically wanted, you might consider decreasing max_length manually, e.g. summarizer('...', max_length=35)\n",
      "Your max_length is set to 200, but your input_length is only 128. Since this is a summarization task, where outputs shorter than the input are typically wanted, you might consider decreasing max_length manually, e.g. summarizer('...', max_length=64)\n",
      "Your max_length is set to 200, but your input_length is only 118. Since this is a summarization task, where outputs shorter than the input are typically wanted, you might consider decreasing max_length manually, e.g. summarizer('...', max_length=59)\n",
      "Your max_length is set to 200, but your input_length is only 112. Since this is a summarization task, where outputs shorter than the input are typically wanted, you might consider decreasing max_length manually, e.g. summarizer('...', max_length=56)\n",
      "Your max_length is set to 200, but your input_length is only 90. Since this is a summarization task, where outputs shorter than the input are typically wanted, you might consider decreasing max_length manually, e.g. summarizer('...', max_length=45)\n",
      "Your max_length is set to 200, but your input_length is only 118. Since this is a summarization task, where outputs shorter than the input are typically wanted, you might consider decreasing max_length manually, e.g. summarizer('...', max_length=59)\n",
      "Your max_length is set to 200, but your input_length is only 116. Since this is a summarization task, where outputs shorter than the input are typically wanted, you might consider decreasing max_length manually, e.g. summarizer('...', max_length=58)\n",
      "Your max_length is set to 200, but your input_length is only 120. Since this is a summarization task, where outputs shorter than the input are typically wanted, you might consider decreasing max_length manually, e.g. summarizer('...', max_length=60)\n",
      "Your max_length is set to 200, but your input_length is only 124. Since this is a summarization task, where outputs shorter than the input are typically wanted, you might consider decreasing max_length manually, e.g. summarizer('...', max_length=62)\n",
      "Your max_length is set to 200, but your input_length is only 192. Since this is a summarization task, where outputs shorter than the input are typically wanted, you might consider decreasing max_length manually, e.g. summarizer('...', max_length=96)\n",
      "Your max_length is set to 200, but your input_length is only 133. Since this is a summarization task, where outputs shorter than the input are typically wanted, you might consider decreasing max_length manually, e.g. summarizer('...', max_length=66)\n",
      "Your max_length is set to 200, but your input_length is only 168. Since this is a summarization task, where outputs shorter than the input are typically wanted, you might consider decreasing max_length manually, e.g. summarizer('...', max_length=84)\n",
      "Your max_length is set to 200, but your input_length is only 180. Since this is a summarization task, where outputs shorter than the input are typically wanted, you might consider decreasing max_length manually, e.g. summarizer('...', max_length=90)\n"
     ]
    }
   ],
   "source": [
    "# summarize the news body\n",
    "sum_df1['summary'] = sum_df1['body'].apply(summarizer)"
   ]
  },
  {
   "cell_type": "code",
   "execution_count": 305,
   "id": "7ac60213-ea21-4bc0-9c39-a1dbf28b8258",
   "metadata": {},
   "outputs": [],
   "source": [
    "# Define a function to extract the summary from the dictionary\n",
    "\n",
    "def extract_summary(summary):\n",
    "    # Check if the input is a list and not empty\n",
    "    if isinstance(summary, list) and summary:\n",
    "        # Extract the 'summary_text' from the 1st dictionary of the list\n",
    "        entry_1st = summary[0]\n",
    "        if isinstance(entry_1st, dict) and 'summary_text' in entry_1st:\n",
    "            return entry_1st['summary_text']\n",
    "        else:\n",
    "            return \"Invalid data structure: Missing 'summary_text' key.\"\n",
    "\n",
    "    else:\n",
    "        return 'Invalid data sturcture: not a non-empty list.'"
   ]
  },
  {
   "cell_type": "code",
   "execution_count": 306,
   "id": "099a3e0e-a897-4211-9dc4-8e230dbdc0a8",
   "metadata": {},
   "outputs": [],
   "source": [
    "# Define a function to clean the extracted summary\n",
    "import re\n",
    "\n",
    "def clean_summary_text(summary_text):\n",
    "    # remove extra spaces before periods\n",
    "    cleaned_text = re.sub(r'\\s+\\.', '.', summary_text)\n",
    "\n",
    "    # Add a period at the end if the last sentences dosen't have one\n",
    "    if not cleaned_text.endswith('.'):\n",
    "        cleaned_text += '.'\n",
    "\n",
    "    # Correct spacing after periods that end with a capital letter\n",
    "    cleaned_text = re.sub(r'(?<=[a-zA-Z])\\.([A-Z])', r'. \\1', cleaned_text)\n",
    "\n",
    "    return cleaned_text"
   ]
  },
  {
   "cell_type": "code",
   "execution_count": 307,
   "id": "8fa2c52f-8bac-47f1-8ec9-659ae65ef3be",
   "metadata": {},
   "outputs": [],
   "source": [
    "# extract summary from dictionary and clean it\n",
    "sum_df1['summary'] = sum_df1['summary'].apply(extract_summary)\n",
    "sum_df1['summary'] = sum_df1['summary'].apply(clean_summary_text)"
   ]
  },
  {
   "cell_type": "code",
   "execution_count": 308,
   "id": "12f2d2db-2c31-4bb7-8e14-5af3f052dfc5",
   "metadata": {},
   "outputs": [
    {
     "data": {
      "text/plain": [
       "\"Ingunn is the strongest storm since Norway's 1992 New Year's hurricane. Storm Jocelyn follows hot on the heels of Storm Isha with wind speeds of up to 156 kph. Climate change is making storms more impactful in various ways, experts say.\""
      ]
     },
     "execution_count": 308,
     "metadata": {},
     "output_type": "execute_result"
    }
   ],
   "source": [
    "sum_df1['summary'].loc[0]"
   ]
  },
  {
   "cell_type": "markdown",
   "id": "860d0df0-d643-40ed-b70c-18438c1befd2",
   "metadata": {},
   "source": [
    "# Generate keywords by using 'KeyBERT'"
   ]
  },
  {
   "cell_type": "code",
   "execution_count": 311,
   "id": "9379c3ff-6c34-4aff-923a-5a945357298d",
   "metadata": {},
   "outputs": [],
   "source": [
    "# Define the pre-trained keybert model for keywords extraction\n",
    "from keybert import KeyBERT\n",
    "\n",
    "kw = KeyBERT()\n",
    "kw_model = KeyBERT('all-mpnet-base-v2')"
   ]
  },
  {
   "cell_type": "code",
   "execution_count": 312,
   "id": "900bd601-d51f-4d8a-bd25-1ecf25dcd8ac",
   "metadata": {},
   "outputs": [
    {
     "name": "stdout",
     "output_type": "stream",
     "text": [
      "1. Testing sentence:\n",
      "farmers are intensifying their pressure on EU leaders gathered in Brussels today. Belgian farmers took a prominent stance by blocking the city center with their tractors. EU offered to shield farmers from cheap Ukrainian imports and proposed a delay.\n",
      "\n",
      "2. Output from our KeyBERT model:\n"
     ]
    },
    {
     "data": {
      "text/plain": [
       "[('farmers', 0.51),\n",
       " ('tractors', 0.3321),\n",
       " ('leaders', 0.2705),\n",
       " ('brussels', 0.2484),\n",
       " ('eu', 0.2062),\n",
       " ('pressure', 0.1967),\n",
       " ('belgian', 0.1836),\n",
       " ('blocking', 0.1644),\n",
       " ('stance', 0.1148),\n",
       " ('intensifying', 0.1104)]"
      ]
     },
     "execution_count": 312,
     "metadata": {},
     "output_type": "execute_result"
    }
   ],
   "source": [
    "# Test the function of keyBERT model to extract keywords\n",
    "testing_text = sum_df1['summary'].loc[2]\n",
    "print('1. Testing sentence:')\n",
    "print(testing_text)\n",
    "\n",
    "keywords = kw_model.extract_keywords(testing_text, \n",
    "                                     top_n = 10)\n",
    "print('')\n",
    "print('2. Output from our KeyBERT model:')\n",
    "keywords"
   ]
  },
  {
   "cell_type": "code",
   "execution_count": 313,
   "id": "3295c9a5-64b9-443d-b788-0f97cd418a65",
   "metadata": {},
   "outputs": [
    {
     "name": "stdout",
     "output_type": "stream",
     "text": [
      "1. Testing sentence:\n",
      "Switzerland agrees to host a global peace summit on Ukraine at request of Ukrainian President Volodymyr Zelenskiy. Neutral Switzerland has previously acted as a broker to resolve conflicts and could now help find a resolution for the war that began when Russia sent troops into Ukraine on Feb. 24, 2022. Ukraine has said it was vital that Beijing was involved in talks to end the conflict.\n",
      "\n",
      "2. Output from our KeyBERT model:\n"
     ]
    },
    {
     "data": {
      "text/plain": [
       "[('ukraine', 0.4972),\n",
       " ('switzerland', 0.4012),\n",
       " ('ukrainian', 0.364),\n",
       " ('russia', 0.3457),\n",
       " ('war', 0.3255),\n",
       " ('peace', 0.2825),\n",
       " ('conflicts', 0.2408),\n",
       " ('conflict', 0.2209),\n",
       " ('summit', 0.2041),\n",
       " ('talks', 0.199)]"
      ]
     },
     "execution_count": 313,
     "metadata": {},
     "output_type": "execute_result"
    }
   ],
   "source": [
    "# Test the function of keyBERT model to extract keywords\n",
    "testing_text_2 = sum_df1['summary'].loc[78]\n",
    "print('1. Testing sentence:')\n",
    "print(testing_text_2)\n",
    "\n",
    "keywords_2 = kw_model.extract_keywords(testing_text_2, \n",
    "                                     top_n = 10)\n",
    "print('')\n",
    "print('2. Output from our KeyBERT model:')\n",
    "keywords_2"
   ]
  },
  {
   "cell_type": "code",
   "execution_count": 314,
   "id": "7faf493d-a316-496d-aad9-a348129e47d6",
   "metadata": {},
   "outputs": [],
   "source": [
    "# Test the function of keyBERT model to extract keywords\n",
    "text = sum_df1['summary']\n",
    "\n",
    "kds = kw_model.extract_keywords(text, \n",
    "                                top_n = 10)"
   ]
  },
  {
   "cell_type": "code",
   "execution_count": 315,
   "id": "e2bc0247-1bf8-4ea1-857c-274bf74bbf64",
   "metadata": {},
   "outputs": [
    {
     "data": {
      "text/html": [
       "<div>\n",
       "<style scoped>\n",
       "    .dataframe tbody tr th:only-of-type {\n",
       "        vertical-align: middle;\n",
       "    }\n",
       "\n",
       "    .dataframe tbody tr th {\n",
       "        vertical-align: top;\n",
       "    }\n",
       "\n",
       "    .dataframe thead th {\n",
       "        text-align: right;\n",
       "    }\n",
       "</style>\n",
       "<table border=\"1\" class=\"dataframe\">\n",
       "  <thead>\n",
       "    <tr style=\"text-align: right;\">\n",
       "      <th></th>\n",
       "      <th>date</th>\n",
       "      <th>title</th>\n",
       "      <th>body</th>\n",
       "      <th>summary</th>\n",
       "      <th>extract_kds</th>\n",
       "    </tr>\n",
       "  </thead>\n",
       "  <tbody>\n",
       "    <tr>\n",
       "      <th>0</th>\n",
       "      <td>2024-02-01</td>\n",
       "      <td>Norway hit by worst storm in 30 years - is cli...</td>\n",
       "      <td>Storm Ingunn follows back to back storms that ...</td>\n",
       "      <td>Ingunn is the strongest storm since Norway's 1...</td>\n",
       "      <td>[(storm, 0.5237), (storms, 0.4863), (hurricane...</td>\n",
       "    </tr>\n",
       "    <tr>\n",
       "      <th>1</th>\n",
       "      <td>2024-02-01</td>\n",
       "      <td>Victims left with 'life-changing' injuries aft...</td>\n",
       "      <td>Superintendent Gabriel Cameron said none of th...</td>\n",
       "      <td>a 31-year-old woman and her daughter seriously...</td>\n",
       "      <td>[(acid, 0.3922), (corrosive, 0.3589), (attack,...</td>\n",
       "    </tr>\n",
       "    <tr>\n",
       "      <th>2</th>\n",
       "      <td>2024-02-01</td>\n",
       "      <td>Angry farmers invade the streets of Brussels</td>\n",
       "      <td>Farmers are intensifying their pressure on EU ...</td>\n",
       "      <td>farmers are intensifying their pressure on EU ...</td>\n",
       "      <td>[(farmers, 0.51), (tractors, 0.3321), (leaders...</td>\n",
       "    </tr>\n",
       "  </tbody>\n",
       "</table>\n",
       "</div>"
      ],
      "text/plain": [
       "         date                                              title  \\\n",
       "0  2024-02-01  Norway hit by worst storm in 30 years - is cli...   \n",
       "1  2024-02-01  Victims left with 'life-changing' injuries aft...   \n",
       "2  2024-02-01       Angry farmers invade the streets of Brussels   \n",
       "\n",
       "                                                body  \\\n",
       "0  Storm Ingunn follows back to back storms that ...   \n",
       "1  Superintendent Gabriel Cameron said none of th...   \n",
       "2  Farmers are intensifying their pressure on EU ...   \n",
       "\n",
       "                                             summary  \\\n",
       "0  Ingunn is the strongest storm since Norway's 1...   \n",
       "1  a 31-year-old woman and her daughter seriously...   \n",
       "2  farmers are intensifying their pressure on EU ...   \n",
       "\n",
       "                                         extract_kds  \n",
       "0  [(storm, 0.5237), (storms, 0.4863), (hurricane...  \n",
       "1  [(acid, 0.3922), (corrosive, 0.3589), (attack,...  \n",
       "2  [(farmers, 0.51), (tractors, 0.3321), (leaders...  "
      ]
     },
     "execution_count": 315,
     "metadata": {},
     "output_type": "execute_result"
    }
   ],
   "source": [
    "# add a new column to stored the extracted the keywords\n",
    "sum_df1['extract_kds'] = kds\n",
    "sum_df1.head(3)"
   ]
  },
  {
   "cell_type": "code",
   "execution_count": 316,
   "id": "9fc95e8b-63f9-4ed4-b72f-97bce0b01085",
   "metadata": {
    "scrolled": true
   },
   "outputs": [],
   "source": [
    "# Extract all keywords from 'extract_kds' without the scores\n",
    "extracted_kds = [[item[0] for item in row] for row in sum_df1['extract_kds']]"
   ]
  },
  {
   "cell_type": "code",
   "execution_count": 317,
   "id": "0f7a1db0-54ee-4e18-9a40-faf8e0cb0ba6",
   "metadata": {},
   "outputs": [
    {
     "data": {
      "text/html": [
       "<div>\n",
       "<style scoped>\n",
       "    .dataframe tbody tr th:only-of-type {\n",
       "        vertical-align: middle;\n",
       "    }\n",
       "\n",
       "    .dataframe tbody tr th {\n",
       "        vertical-align: top;\n",
       "    }\n",
       "\n",
       "    .dataframe thead th {\n",
       "        text-align: right;\n",
       "    }\n",
       "</style>\n",
       "<table border=\"1\" class=\"dataframe\">\n",
       "  <thead>\n",
       "    <tr style=\"text-align: right;\">\n",
       "      <th></th>\n",
       "      <th>date</th>\n",
       "      <th>title</th>\n",
       "      <th>body</th>\n",
       "      <th>summary</th>\n",
       "      <th>extract_kds</th>\n",
       "      <th>keywords</th>\n",
       "    </tr>\n",
       "  </thead>\n",
       "  <tbody>\n",
       "    <tr>\n",
       "      <th>0</th>\n",
       "      <td>2024-02-01</td>\n",
       "      <td>Norway hit by worst storm in 30 years - is cli...</td>\n",
       "      <td>Storm Ingunn follows back to back storms that ...</td>\n",
       "      <td>Ingunn is the strongest storm since Norway's 1...</td>\n",
       "      <td>[(storm, 0.5237), (storms, 0.4863), (hurricane...</td>\n",
       "      <td>[storm, storms, hurricane, ingunn, strongest, ...</td>\n",
       "    </tr>\n",
       "    <tr>\n",
       "      <th>1</th>\n",
       "      <td>2024-02-01</td>\n",
       "      <td>Victims left with 'life-changing' injuries aft...</td>\n",
       "      <td>Superintendent Gabriel Cameron said none of th...</td>\n",
       "      <td>a 31-year-old woman and her daughter seriously...</td>\n",
       "      <td>[(acid, 0.3922), (corrosive, 0.3589), (attack,...</td>\n",
       "      <td>[acid, corrosive, attack, injured, clapham, ch...</td>\n",
       "    </tr>\n",
       "    <tr>\n",
       "      <th>2</th>\n",
       "      <td>2024-02-01</td>\n",
       "      <td>Angry farmers invade the streets of Brussels</td>\n",
       "      <td>Farmers are intensifying their pressure on EU ...</td>\n",
       "      <td>farmers are intensifying their pressure on EU ...</td>\n",
       "      <td>[(farmers, 0.51), (tractors, 0.3321), (leaders...</td>\n",
       "      <td>[farmers, tractors, leaders, brussels, eu, pre...</td>\n",
       "    </tr>\n",
       "  </tbody>\n",
       "</table>\n",
       "</div>"
      ],
      "text/plain": [
       "         date                                              title  \\\n",
       "0  2024-02-01  Norway hit by worst storm in 30 years - is cli...   \n",
       "1  2024-02-01  Victims left with 'life-changing' injuries aft...   \n",
       "2  2024-02-01       Angry farmers invade the streets of Brussels   \n",
       "\n",
       "                                                body  \\\n",
       "0  Storm Ingunn follows back to back storms that ...   \n",
       "1  Superintendent Gabriel Cameron said none of th...   \n",
       "2  Farmers are intensifying their pressure on EU ...   \n",
       "\n",
       "                                             summary  \\\n",
       "0  Ingunn is the strongest storm since Norway's 1...   \n",
       "1  a 31-year-old woman and her daughter seriously...   \n",
       "2  farmers are intensifying their pressure on EU ...   \n",
       "\n",
       "                                         extract_kds  \\\n",
       "0  [(storm, 0.5237), (storms, 0.4863), (hurricane...   \n",
       "1  [(acid, 0.3922), (corrosive, 0.3589), (attack,...   \n",
       "2  [(farmers, 0.51), (tractors, 0.3321), (leaders...   \n",
       "\n",
       "                                            keywords  \n",
       "0  [storm, storms, hurricane, ingunn, strongest, ...  \n",
       "1  [acid, corrosive, attack, injured, clapham, ch...  \n",
       "2  [farmers, tractors, leaders, brussels, eu, pre...  "
      ]
     },
     "execution_count": 317,
     "metadata": {},
     "output_type": "execute_result"
    }
   ],
   "source": [
    "# add a new column 'keywords' to df\n",
    "sum_df1['keywords'] = extracted_kds\n",
    "sum_df1.head(3)"
   ]
  },
  {
   "cell_type": "code",
   "execution_count": 318,
   "id": "6463ea2f-5ca2-4672-a1d7-534c2f7c2d91",
   "metadata": {},
   "outputs": [
    {
     "data": {
      "text/html": [
       "<div>\n",
       "<style scoped>\n",
       "    .dataframe tbody tr th:only-of-type {\n",
       "        vertical-align: middle;\n",
       "    }\n",
       "\n",
       "    .dataframe tbody tr th {\n",
       "        vertical-align: top;\n",
       "    }\n",
       "\n",
       "    .dataframe thead th {\n",
       "        text-align: right;\n",
       "    }\n",
       "</style>\n",
       "<table border=\"1\" class=\"dataframe\">\n",
       "  <thead>\n",
       "    <tr style=\"text-align: right;\">\n",
       "      <th></th>\n",
       "      <th>date</th>\n",
       "      <th>title</th>\n",
       "      <th>body</th>\n",
       "      <th>summary</th>\n",
       "      <th>extract_kds</th>\n",
       "      <th>keywords</th>\n",
       "    </tr>\n",
       "  </thead>\n",
       "  <tbody>\n",
       "    <tr>\n",
       "      <th>0</th>\n",
       "      <td>2024-02-01</td>\n",
       "      <td>Norway hit by worst storm in 30 years - is cli...</td>\n",
       "      <td>Storm Ingunn follows back to back storms that ...</td>\n",
       "      <td>Ingunn is the strongest storm since Norway's 1...</td>\n",
       "      <td>[(storm, 0.5237), (storms, 0.4863), (hurricane...</td>\n",
       "      <td>storm, storms, hurricane, ingunn, strongest, w...</td>\n",
       "    </tr>\n",
       "    <tr>\n",
       "      <th>1</th>\n",
       "      <td>2024-02-01</td>\n",
       "      <td>Victims left with 'life-changing' injuries aft...</td>\n",
       "      <td>Superintendent Gabriel Cameron said none of th...</td>\n",
       "      <td>a 31-year-old woman and her daughter seriously...</td>\n",
       "      <td>[(acid, 0.3922), (corrosive, 0.3589), (attack,...</td>\n",
       "      <td>acid, corrosive, attack, injured, clapham, chi...</td>\n",
       "    </tr>\n",
       "    <tr>\n",
       "      <th>2</th>\n",
       "      <td>2024-02-01</td>\n",
       "      <td>Angry farmers invade the streets of Brussels</td>\n",
       "      <td>Farmers are intensifying their pressure on EU ...</td>\n",
       "      <td>farmers are intensifying their pressure on EU ...</td>\n",
       "      <td>[(farmers, 0.51), (tractors, 0.3321), (leaders...</td>\n",
       "      <td>farmers, tractors, leaders, brussels, eu, pres...</td>\n",
       "    </tr>\n",
       "  </tbody>\n",
       "</table>\n",
       "</div>"
      ],
      "text/plain": [
       "         date                                              title  \\\n",
       "0  2024-02-01  Norway hit by worst storm in 30 years - is cli...   \n",
       "1  2024-02-01  Victims left with 'life-changing' injuries aft...   \n",
       "2  2024-02-01       Angry farmers invade the streets of Brussels   \n",
       "\n",
       "                                                body  \\\n",
       "0  Storm Ingunn follows back to back storms that ...   \n",
       "1  Superintendent Gabriel Cameron said none of th...   \n",
       "2  Farmers are intensifying their pressure on EU ...   \n",
       "\n",
       "                                             summary  \\\n",
       "0  Ingunn is the strongest storm since Norway's 1...   \n",
       "1  a 31-year-old woman and her daughter seriously...   \n",
       "2  farmers are intensifying their pressure on EU ...   \n",
       "\n",
       "                                         extract_kds  \\\n",
       "0  [(storm, 0.5237), (storms, 0.4863), (hurricane...   \n",
       "1  [(acid, 0.3922), (corrosive, 0.3589), (attack,...   \n",
       "2  [(farmers, 0.51), (tractors, 0.3321), (leaders...   \n",
       "\n",
       "                                            keywords  \n",
       "0  storm, storms, hurricane, ingunn, strongest, w...  \n",
       "1  acid, corrosive, attack, injured, clapham, chi...  \n",
       "2  farmers, tractors, leaders, brussels, eu, pres...  "
      ]
     },
     "execution_count": 318,
     "metadata": {},
     "output_type": "execute_result"
    }
   ],
   "source": [
    "# Join the keywords by comma for the column 'keywords'\n",
    "sum_df1['keywords'] = sum_df1['keywords'].apply(lambda x: ', '.join(x))\n",
    "sum_df1.head(3)"
   ]
  },
  {
   "cell_type": "markdown",
   "id": "3ceedf52-b05d-4362-b44c-61b4746a3f7e",
   "metadata": {},
   "source": [
    "# HDBSCAN Clustering "
   ]
  },
  {
   "cell_type": "code",
   "execution_count": 319,
   "id": "72dd20cb-4e23-4c39-a500-f095c65a28be",
   "metadata": {},
   "outputs": [
    {
     "data": {
      "text/plain": [
       "(818, 768)"
      ]
     },
     "execution_count": 319,
     "metadata": {},
     "output_type": "execute_result"
    }
   ],
   "source": [
    "from sentence_transformers import SentenceTransformer\n",
    "\n",
    "# Download the sentence embedding model\n",
    "embedder = SentenceTransformer('all-mpnet-base-v2')\n",
    "\n",
    "# embed article body\n",
    "corpus_embeddings = embedder.encode(sum_df1['keywords'].values)\n",
    "corpus_embeddings.shape"
   ]
  },
  {
   "cell_type": "markdown",
   "id": "3105a0ac-dd03-476d-847c-e014a336bc59",
   "metadata": {},
   "source": [
    "Reducing the dimension by UMAP, here is the instruction of parameter:\n",
    "\n",
    "'n_neighbors': Constructing the high-dimensional representation of the data. More global structure could be preserved if increased.\n",
    "\n",
    "'min_dist': Controlling the minimumn distance between points in the low-dimensional embedding space. More packed embeddings if decreased."
   ]
  },
  {
   "cell_type": "code",
   "execution_count": 320,
   "id": "0643f4fb-2429-4985-81e6-5d94814a7deb",
   "metadata": {},
   "outputs": [
    {
     "name": "stdout",
     "output_type": "stream",
     "text": [
      "Intel MKL WARNING: Support of Intel(R) Streaming SIMD Extensions 4.2 (Intel(R) SSE4.2) enabled only processors has been deprecated. Intel oneAPI Math Kernel Library 2025.0 will require Intel(R) Advanced Vector Extensions (Intel(R) AVX) instructions.\n"
     ]
    }
   ],
   "source": [
    "import umap\n",
    "\n",
    "# Reduce the dimensions of embeddings using UMAP\n",
    "reduced_embeddings = umap.UMAP(n_components=2,\n",
    "                              n_neighbors= 20,\n",
    "                              min_dist=0.02).fit_transform(corpus_embeddings)"
   ]
  },
  {
   "cell_type": "markdown",
   "id": "99c3a360-6e8d-40b1-ae90-2407f9bc374c",
   "metadata": {},
   "source": [
    "HDBSCAN clustering parameter: 'min_cluster_size': Specifying the minimum number of points required to group of points to be a cluster."
   ]
  },
  {
   "cell_type": "code",
   "execution_count": 321,
   "id": "0650d161-8d21-4e3e-82e4-e77f6afa1fd6",
   "metadata": {},
   "outputs": [
    {
     "name": "stdout",
     "output_type": "stream",
     "text": [
      "Intel MKL WARNING: Support of Intel(R) Streaming SIMD Extensions 4.2 (Intel(R) SSE4.2) enabled only processors has been deprecated. Intel oneAPI Math Kernel Library 2025.0 will require Intel(R) Advanced Vector Extensions (Intel(R) AVX) instructions.\n",
      "Intel MKL WARNING: Support of Intel(R) Streaming SIMD Extensions 4.2 (Intel(R) SSE4.2) enabled only processors has been deprecated. Intel oneAPI Math Kernel Library 2025.0 will require Intel(R) Advanced Vector Extensions (Intel(R) AVX) instructions.\n",
      "Intel MKL WARNING: Support of Intel(R) Streaming SIMD Extensions 4.2 (Intel(R) SSE4.2) enabled only processors has been deprecated. Intel oneAPI Math Kernel Library 2025.0 will require Intel(R) Advanced Vector Extensions (Intel(R) AVX) instructions.\n",
      "Intel MKL WARNING: Support of Intel(R) Streaming SIMD Extensions 4.2 (Intel(R) SSE4.2) enabled only processors has been deprecated. Intel oneAPI Math Kernel Library 2025.0 will require Intel(R) Advanced Vector Extensions (Intel(R) AVX) instructions.\n",
      "Intel MKL WARNING: Support of Intel(R) Streaming SIMD Extensions 4.2 (Intel(R) SSE4.2) enabled only processors has been deprecated. Intel oneAPI Math Kernel Library 2025.0 will require Intel(R) Advanced Vector Extensions (Intel(R) AVX) instructions.\n",
      "Intel MKL WARNING: Support of Intel(R) Streaming SIMD Extensions 4.2 (Intel(R) SSE4.2) enabled only processors has been deprecated. Intel oneAPI Math Kernel Library 2025.0 will require Intel(R) Advanced Vector Extensions (Intel(R) AVX) instructions.\n",
      "Intel MKL WARNING: Support of Intel(R) Streaming SIMD Extensions 4.2 (Intel(R) SSE4.2) enabled only processors has been deprecated. Intel oneAPI Math Kernel Library 2025.0 will require Intel(R) Advanced Vector Extensions (Intel(R) AVX) instructions.\n",
      "Best Min Cluster Size: 2\n",
      "Best Silhouette Score: 0.3325442969799042\n",
      "Best Calinski-Harabasz Index: 34.246652175759685\n",
      "Best Davies-Bouldin Index: 1.5284217064690295\n"
     ]
    }
   ],
   "source": [
    "import hdbscan\n",
    "from sklearn.metrics import silhouette_score, calinski_harabasz_score, davies_bouldin_score\n",
    "\n",
    "# Define a range of min_cluster_size values to search over\n",
    "min_cluster_size_range = list(range(2,9))  # Adjust as needed\n",
    "\n",
    "# Initialize variables to store the best cluster and its evaluation scores\n",
    "best_min_cluster_size = None\n",
    "best_silhouette_score = float('-inf')\n",
    "best_calinski_harabasz_score = float('-inf')\n",
    "best_davies_bouldin_score = float('inf')\n",
    "\n",
    "# Perform clustering for each min_cluster_size value\n",
    "for min_cluster_size in min_cluster_size_range:\n",
    "    # Clustering with HDBSCAN\n",
    "    clusterer = hdbscan.HDBSCAN(min_cluster_size=min_cluster_size)\n",
    "    labels = clusterer.fit_predict(reduced_embeddings)\n",
    "    \n",
    "    # Compute evaluation scores\n",
    "    silhouette = silhouette_score(reduced_embeddings, labels)\n",
    "    calinski_harabasz = calinski_harabasz_score(reduced_embeddings, labels)\n",
    "    davies_bouldin = davies_bouldin_score(reduced_embeddings, labels)\n",
    "    \n",
    "    # Update best cluster if current cluster has better scores\n",
    "    if silhouette > best_silhouette_score and calinski_harabasz > best_calinski_harabasz_score and davies_bouldin < best_davies_bouldin_score:\n",
    "        best_min_cluster_size = min_cluster_size\n",
    "        best_silhouette_score = silhouette\n",
    "        best_calinski_harabasz_score = calinski_harabasz\n",
    "        best_davies_bouldin_score = davies_bouldin\n",
    "\n",
    "# Print the best cluster and its evaluation scores\n",
    "print(f\"Best Min Cluster Size: {best_min_cluster_size}\")\n",
    "print(f\"Best Silhouette Score: {best_silhouette_score}\")\n",
    "print(f\"Best Calinski-Harabasz Index: {best_calinski_harabasz_score}\")\n",
    "print(f\"Best Davies-Bouldin Index: {best_davies_bouldin_score}\")\n"
   ]
  },
  {
   "cell_type": "code",
   "execution_count": 322,
   "id": "5053fd6f-f297-404d-aa2e-79dc56140984",
   "metadata": {},
   "outputs": [
    {
     "name": "stdout",
     "output_type": "stream",
     "text": [
      "Num of clusters: 116\n"
     ]
    }
   ],
   "source": [
    "import hdbscan\n",
    "\n",
    "# clustering with HDBSCAN\n",
    "clusterer = hdbscan.HDBSCAN(min_cluster_size = best_min_cluster_size)\n",
    "labels = clusterer.fit_predict(reduced_embeddings)\n",
    "sum_df1[\"label\"] = [str(label) for label in labels]\n",
    "print(f\"Num of clusters: {labels.max()}\")"
   ]
  },
  {
   "cell_type": "code",
   "execution_count": 323,
   "id": "a423e255-5ab5-4123-83ad-9b8160941bd6",
   "metadata": {},
   "outputs": [
    {
     "name": "stdout",
     "output_type": "stream",
     "text": [
      "Num of outliers: 133 (16.26 % of total)\n"
     ]
    }
   ],
   "source": [
    "# number of outliers\n",
    "num_outliers = len(sum_df1[sum_df1[\"label\"] == \"-1\"])\n",
    "print(f\"Num of outliers: {num_outliers} ({num_outliers / len(sum_df1) * 100:.2f} % of total)\")"
   ]
  },
  {
   "cell_type": "code",
   "execution_count": 324,
   "id": "9020c446-b827-4961-ae46-f4f7e672052b",
   "metadata": {},
   "outputs": [
    {
     "data": {
      "text/plain": [
       "label\n",
       "-1     133\n",
       "41      18\n",
       "91      17\n",
       "31      16\n",
       "50      16\n",
       "      ... \n",
       "67       2\n",
       "38       2\n",
       "58       2\n",
       "12       2\n",
       "107      2\n",
       "Name: count, Length: 118, dtype: int64"
      ]
     },
     "execution_count": 324,
     "metadata": {},
     "output_type": "execute_result"
    }
   ],
   "source": [
    "sum_df1['label'].value_counts()"
   ]
  },
  {
   "cell_type": "code",
   "execution_count": 326,
   "id": "24f95f79-188f-4432-b2ac-095f208e8cf9",
   "metadata": {},
   "outputs": [],
   "source": [
    "# save for record\n",
    "sum_df1.to_csv('clustered_HDBSCAN.csv', index = False)"
   ]
  },
  {
   "cell_type": "markdown",
   "id": "ac61c62b-aed3-4c8c-b80b-87f8a2ab0146",
   "metadata": {},
   "source": [
    "# Nested clustering"
   ]
  },
  {
   "cell_type": "code",
   "execution_count": 327,
   "id": "ce1507a8-0d97-4688-bf80-702e4bcd41cd",
   "metadata": {},
   "outputs": [],
   "source": [
    "# Subset the dataframe \n",
    "nested_df = sum_df1[['date','title','body','summary','keywords','label']].copy()\n",
    "nested_df.columns\n",
    "\n",
    "# pre-process text\n",
    "docs = nested_df['summary'].astype(str)  # Convert to string type if necessary\n",
    "docs = docs.str.lower()  # Convert all strings to lowercase\n",
    "docs = docs.str.replace(r'[^\\w\\s]', '')  # Remove non-alphanumeric characters using regex"
   ]
  },
  {
   "cell_type": "code",
   "execution_count": 328,
   "id": "0fe37877-a4f8-4603-a3fb-10e6ccc26902",
   "metadata": {},
   "outputs": [],
   "source": [
    "from sklearn.feature_extraction.text import TfidfVectorizer\n",
    "from sklearn.cluster import AgglomerativeClustering\n",
    "from sklearn.metrics.pairwise import cosine_similarity\n",
    "import pandas as pd\n",
    "\n",
    "# Vectorization\n",
    "vectorizer = TfidfVectorizer()\n",
    "tfidf_matrix = vectorizer.fit_transform(docs)\n",
    "\n",
    "# Cosine similarity \n",
    "cosine_sim = cosine_similarity(tfidf_matrix)\n",
    "\n",
    "# no.of cluster\n",
    "n_clusters = int(len(df)/2)\n",
    "\n",
    "# H-Clustering\n",
    "H_clustering = AgglomerativeClustering(n_clusters = n_clusters,\n",
    "                                      linkage = 'complete')\n",
    "H_clustering.fit(cosine_sim)\n",
    "\n",
    "# Assign nested_label to the dataframe\n",
    "nested_df['nested_label'] = H_clustering.labels_.astype(str)"
   ]
  },
  {
   "cell_type": "code",
   "execution_count": 329,
   "id": "563917c5-28f8-43c8-896d-1a09fe97edce",
   "metadata": {},
   "outputs": [],
   "source": [
    "# Combine label and nested_label into group_no\n",
    "nested_df['group_no'] = nested_df.apply(lambda x: f\"{x['label']}{x['nested_label']}\" if x['nested_label'] != -1 else -1, axis=1)\n",
    "\n",
    "# Find unique group_no values\n",
    "unique_group_nos = nested_df['group_no'].value_counts()[nested_df['group_no'].value_counts() == 1].index.tolist()\n",
    "\n",
    "# Set 'group_no' to -1 for rows with unique group_no values\n",
    "nested_df.loc[nested_df['group_no'].isin(unique_group_nos), 'group_no'] = -1\n",
    "\n",
    "# Set 'group_no' to -1 for rows with negative group_no values\n",
    "nested_df.loc[nested_df['group_no'].astype(int) < 0, 'group_no'] = -1"
   ]
  },
  {
   "cell_type": "code",
   "execution_count": 330,
   "id": "5996febe-6de4-441e-a9b5-deaeb0666b7d",
   "metadata": {},
   "outputs": [
    {
     "data": {
      "text/plain": [
       "group_no\n",
       "-1        559\n",
       "9541        8\n",
       "1129        8\n",
       "6557        5\n",
       "4171        5\n",
       "         ... \n",
       "86157       2\n",
       "104209      2\n",
       "3445        2\n",
       "24102       2\n",
       "9932        2\n",
       "Name: count, Length: 102, dtype: int64"
      ]
     },
     "execution_count": 330,
     "metadata": {},
     "output_type": "execute_result"
    }
   ],
   "source": [
    "nested_df['group_no'].value_counts()"
   ]
  },
  {
   "cell_type": "code",
   "execution_count": 334,
   "id": "2e80bb8a-bfdd-402a-9857-7476bab15fb6",
   "metadata": {},
   "outputs": [
    {
     "data": {
      "text/html": [
       "<div>\n",
       "<style scoped>\n",
       "    .dataframe tbody tr th:only-of-type {\n",
       "        vertical-align: middle;\n",
       "    }\n",
       "\n",
       "    .dataframe tbody tr th {\n",
       "        vertical-align: top;\n",
       "    }\n",
       "\n",
       "    .dataframe thead th {\n",
       "        text-align: right;\n",
       "    }\n",
       "</style>\n",
       "<table border=\"1\" class=\"dataframe\">\n",
       "  <thead>\n",
       "    <tr style=\"text-align: right;\">\n",
       "      <th></th>\n",
       "      <th>title</th>\n",
       "      <th>summary</th>\n",
       "      <th>group_no</th>\n",
       "    </tr>\n",
       "  </thead>\n",
       "  <tbody>\n",
       "    <tr>\n",
       "      <th>175</th>\n",
       "      <td>Monkey caught in Cairngorms after five days on...</td>\n",
       "      <td>Japanese macaque escaped from the Highland Wil...</td>\n",
       "      <td>9541</td>\n",
       "    </tr>\n",
       "    <tr>\n",
       "      <th>236</th>\n",
       "      <td>Monkey searchers absolutely spank it by findin...</td>\n",
       "      <td>Japanese macaque that escaped from a Scottish ...</td>\n",
       "      <td>9541</td>\n",
       "    </tr>\n",
       "    <tr>\n",
       "      <th>332</th>\n",
       "      <td>Escaped Highland monkey 'Kinghussie Kong' is r...</td>\n",
       "      <td>Japanese macaque, nicknamed Kinghussie Kong, t...</td>\n",
       "      <td>9541</td>\n",
       "    </tr>\n",
       "    <tr>\n",
       "      <th>357</th>\n",
       "      <td>Escaped monkey found snacking on peanuts in Hi...</td>\n",
       "      <td>Japanese macaque found snacking on peanuts aft...</td>\n",
       "      <td>9541</td>\n",
       "    </tr>\n",
       "    <tr>\n",
       "      <th>440</th>\n",
       "      <td>Escaped monkey captured eating from garden bir...</td>\n",
       "      <td>Japanese macaque found a way out of its enclos...</td>\n",
       "      <td>9541</td>\n",
       "    </tr>\n",
       "    <tr>\n",
       "      <th>538</th>\n",
       "      <td>Scotland's missing monkey has been found after...</td>\n",
       "      <td>Japanese Macaque found a way out of its enclos...</td>\n",
       "      <td>9541</td>\n",
       "    </tr>\n",
       "    <tr>\n",
       "      <th>585</th>\n",
       "      <td>Escaped monkey captured after roaming Highland...</td>\n",
       "      <td>Japanese macaque broke out of the Highland Wil...</td>\n",
       "      <td>9541</td>\n",
       "    </tr>\n",
       "    <tr>\n",
       "      <th>589</th>\n",
       "      <td>Escaped monkey remains on the loose as search ...</td>\n",
       "      <td>Japanese macaque remains on the loose in Kincr...</td>\n",
       "      <td>9541</td>\n",
       "    </tr>\n",
       "  </tbody>\n",
       "</table>\n",
       "</div>"
      ],
      "text/plain": [
       "                                                 title  \\\n",
       "175  Monkey caught in Cairngorms after five days on...   \n",
       "236  Monkey searchers absolutely spank it by findin...   \n",
       "332  Escaped Highland monkey 'Kinghussie Kong' is r...   \n",
       "357  Escaped monkey found snacking on peanuts in Hi...   \n",
       "440  Escaped monkey captured eating from garden bir...   \n",
       "538  Scotland's missing monkey has been found after...   \n",
       "585  Escaped monkey captured after roaming Highland...   \n",
       "589  Escaped monkey remains on the loose as search ...   \n",
       "\n",
       "                                               summary group_no  \n",
       "175  Japanese macaque escaped from the Highland Wil...     9541  \n",
       "236  Japanese macaque that escaped from a Scottish ...     9541  \n",
       "332  Japanese macaque, nicknamed Kinghussie Kong, t...     9541  \n",
       "357  Japanese macaque found snacking on peanuts aft...     9541  \n",
       "440  Japanese macaque found a way out of its enclos...     9541  \n",
       "538  Japanese Macaque found a way out of its enclos...     9541  \n",
       "585  Japanese macaque broke out of the Highland Wil...     9541  \n",
       "589  Japanese macaque remains on the loose in Kincr...     9541  "
      ]
     },
     "execution_count": 334,
     "metadata": {},
     "output_type": "execute_result"
    }
   ],
   "source": [
    "groupno_9541 = nested_df[nested_df['group_no'] == '9541']\n",
    "groupno_9541 = groupno_9541[['title','summary','group_no']]\n",
    "groupno_9541"
   ]
  },
  {
   "cell_type": "code",
   "execution_count": 335,
   "id": "f1ba1d51-3033-4149-a118-99235d3e6447",
   "metadata": {},
   "outputs": [
    {
     "data": {
      "text/html": [
       "<div>\n",
       "<style scoped>\n",
       "    .dataframe tbody tr th:only-of-type {\n",
       "        vertical-align: middle;\n",
       "    }\n",
       "\n",
       "    .dataframe tbody tr th {\n",
       "        vertical-align: top;\n",
       "    }\n",
       "\n",
       "    .dataframe thead th {\n",
       "        text-align: right;\n",
       "    }\n",
       "</style>\n",
       "<table border=\"1\" class=\"dataframe\">\n",
       "  <thead>\n",
       "    <tr style=\"text-align: right;\">\n",
       "      <th></th>\n",
       "      <th>title</th>\n",
       "      <th>summary</th>\n",
       "      <th>group_no</th>\n",
       "    </tr>\n",
       "  </thead>\n",
       "  <tbody>\n",
       "    <tr>\n",
       "      <th>191</th>\n",
       "      <td>Martin Brundle leads Lewis Hamilton to Ferrari...</td>\n",
       "      <td>Martin Brundle admits he is \"so looking forwar...</td>\n",
       "      <td>1129</td>\n",
       "    </tr>\n",
       "    <tr>\n",
       "      <th>198</th>\n",
       "      <td>Carlos Sainz and eight other potential replace...</td>\n",
       "      <td>Lewis Hamilton has not won an F1 race for over...</td>\n",
       "      <td>1129</td>\n",
       "    </tr>\n",
       "    <tr>\n",
       "      <th>211</th>\n",
       "      <td>Lewis Hamilton to Ferrari LIVE: Latest F1 updates</td>\n",
       "      <td>Lewis Hamilton is set to leave Mercedes for Fe...</td>\n",
       "      <td>1129</td>\n",
       "    </tr>\n",
       "    <tr>\n",
       "      <th>336</th>\n",
       "      <td>Lewis Hamilton to Ferrari live: Mercedes drive...</td>\n",
       "      <td>Lewis Hamilton is expected to make a shock swi...</td>\n",
       "      <td>1129</td>\n",
       "    </tr>\n",
       "    <tr>\n",
       "      <th>339</th>\n",
       "      <td>Lewis Hamilton in talks to join Ferrari from M...</td>\n",
       "      <td>Seven-time world champion Lewis Hamilton is ex...</td>\n",
       "      <td>1129</td>\n",
       "    </tr>\n",
       "    <tr>\n",
       "      <th>400</th>\n",
       "      <td>Lewis Hamilton: F1 star set for sensational sw...</td>\n",
       "      <td>Lewis Hamilton is set to leave Mercedes and ma...</td>\n",
       "      <td>1129</td>\n",
       "    </tr>\n",
       "    <tr>\n",
       "      <th>461</th>\n",
       "      <td>Lewis Hamilton set to join Ferrari for 2025 Fo...</td>\n",
       "      <td>Lewis Hamilton is on the brink of a shock move...</td>\n",
       "      <td>1129</td>\n",
       "    </tr>\n",
       "    <tr>\n",
       "      <th>542</th>\n",
       "      <td>Lewis Hamilton set to leave Mercedes and move ...</td>\n",
       "      <td>Lewis Hamilton is expected to be leaving Merce...</td>\n",
       "      <td>1129</td>\n",
       "    </tr>\n",
       "  </tbody>\n",
       "</table>\n",
       "</div>"
      ],
      "text/plain": [
       "                                                 title  \\\n",
       "191  Martin Brundle leads Lewis Hamilton to Ferrari...   \n",
       "198  Carlos Sainz and eight other potential replace...   \n",
       "211  Lewis Hamilton to Ferrari LIVE: Latest F1 updates   \n",
       "336  Lewis Hamilton to Ferrari live: Mercedes drive...   \n",
       "339  Lewis Hamilton in talks to join Ferrari from M...   \n",
       "400  Lewis Hamilton: F1 star set for sensational sw...   \n",
       "461  Lewis Hamilton set to join Ferrari for 2025 Fo...   \n",
       "542  Lewis Hamilton set to leave Mercedes and move ...   \n",
       "\n",
       "                                               summary group_no  \n",
       "191  Martin Brundle admits he is \"so looking forwar...     1129  \n",
       "198  Lewis Hamilton has not won an F1 race for over...     1129  \n",
       "211  Lewis Hamilton is set to leave Mercedes for Fe...     1129  \n",
       "336  Lewis Hamilton is expected to make a shock swi...     1129  \n",
       "339  Seven-time world champion Lewis Hamilton is ex...     1129  \n",
       "400  Lewis Hamilton is set to leave Mercedes and ma...     1129  \n",
       "461  Lewis Hamilton is on the brink of a shock move...     1129  \n",
       "542  Lewis Hamilton is expected to be leaving Merce...     1129  "
      ]
     },
     "execution_count": 335,
     "metadata": {},
     "output_type": "execute_result"
    }
   ],
   "source": [
    "groupno_1129 = nested_df[nested_df['group_no'] == '1129']\n",
    "groupno_1129 = groupno_1129[['title','summary','group_no']]\n",
    "groupno_1129"
   ]
  },
  {
   "cell_type": "code",
   "execution_count": 336,
   "id": "6fd6a231-c1fc-4093-ba1f-f78427e1c8d1",
   "metadata": {},
   "outputs": [
    {
     "data": {
      "text/html": [
       "<div>\n",
       "<style scoped>\n",
       "    .dataframe tbody tr th:only-of-type {\n",
       "        vertical-align: middle;\n",
       "    }\n",
       "\n",
       "    .dataframe tbody tr th {\n",
       "        vertical-align: top;\n",
       "    }\n",
       "\n",
       "    .dataframe thead th {\n",
       "        text-align: right;\n",
       "    }\n",
       "</style>\n",
       "<table border=\"1\" class=\"dataframe\">\n",
       "  <thead>\n",
       "    <tr style=\"text-align: right;\">\n",
       "      <th></th>\n",
       "      <th>title</th>\n",
       "      <th>summary</th>\n",
       "      <th>group_no</th>\n",
       "    </tr>\n",
       "  </thead>\n",
       "  <tbody>\n",
       "    <tr>\n",
       "      <th>193</th>\n",
       "      <td>Labour government will cap corporation tax for...</td>\n",
       "      <td>Labour will cap corporation tax at 25 per cent...</td>\n",
       "      <td>6557</td>\n",
       "    </tr>\n",
       "    <tr>\n",
       "      <th>218</th>\n",
       "      <td>Rachel Reeves defends decision to allow unlimi...</td>\n",
       "      <td>Labour's holder of the purse strings says she ...</td>\n",
       "      <td>6557</td>\n",
       "    </tr>\n",
       "    <tr>\n",
       "      <th>276</th>\n",
       "      <td>Rachel Reeves defends decision not to restore ...</td>\n",
       "      <td>Rachel Reeves has defended her decision not to...</td>\n",
       "      <td>6557</td>\n",
       "    </tr>\n",
       "    <tr>\n",
       "      <th>379</th>\n",
       "      <td>Labour rules out raising corporation tax above...</td>\n",
       "      <td>Shadow chancellor Rachel Reeves unveils raft o...</td>\n",
       "      <td>6557</td>\n",
       "    </tr>\n",
       "    <tr>\n",
       "      <th>401</th>\n",
       "      <td>Rachel Reeves: Labour will cap corporation tax...</td>\n",
       "      <td>Rachel Reeves tells bosses a Labour government...</td>\n",
       "      <td>6557</td>\n",
       "    </tr>\n",
       "  </tbody>\n",
       "</table>\n",
       "</div>"
      ],
      "text/plain": [
       "                                                 title  \\\n",
       "193  Labour government will cap corporation tax for...   \n",
       "218  Rachel Reeves defends decision to allow unlimi...   \n",
       "276  Rachel Reeves defends decision not to restore ...   \n",
       "379  Labour rules out raising corporation tax above...   \n",
       "401  Rachel Reeves: Labour will cap corporation tax...   \n",
       "\n",
       "                                               summary group_no  \n",
       "193  Labour will cap corporation tax at 25 per cent...     6557  \n",
       "218  Labour's holder of the purse strings says she ...     6557  \n",
       "276  Rachel Reeves has defended her decision not to...     6557  \n",
       "379  Shadow chancellor Rachel Reeves unveils raft o...     6557  \n",
       "401  Rachel Reeves tells bosses a Labour government...     6557  "
      ]
     },
     "execution_count": 336,
     "metadata": {},
     "output_type": "execute_result"
    }
   ],
   "source": [
    "groupno_6557 = nested_df[nested_df['group_no'] == '6557']\n",
    "groupno_6557 = groupno_6557[['title','summary','group_no']]\n",
    "groupno_6557"
   ]
  },
  {
   "cell_type": "code",
   "execution_count": 344,
   "id": "a1dec8c8-2ee3-4c96-a0de-d788cac357e2",
   "metadata": {},
   "outputs": [
    {
     "data": {
      "text/html": [
       "<div>\n",
       "<style scoped>\n",
       "    .dataframe tbody tr th:only-of-type {\n",
       "        vertical-align: middle;\n",
       "    }\n",
       "\n",
       "    .dataframe tbody tr th {\n",
       "        vertical-align: top;\n",
       "    }\n",
       "\n",
       "    .dataframe thead th {\n",
       "        text-align: right;\n",
       "    }\n",
       "</style>\n",
       "<table border=\"1\" class=\"dataframe\">\n",
       "  <thead>\n",
       "    <tr style=\"text-align: right;\">\n",
       "      <th></th>\n",
       "      <th>title</th>\n",
       "      <th>summary</th>\n",
       "      <th>group_no</th>\n",
       "    </tr>\n",
       "  </thead>\n",
       "  <tbody>\n",
       "    <tr>\n",
       "      <th>265</th>\n",
       "      <td>Justin Timberlake makes 'disgusting' comment o...</td>\n",
       "      <td>Britney apologised to Justin Timberlake just 4...</td>\n",
       "      <td>3445</td>\n",
       "    </tr>\n",
       "    <tr>\n",
       "      <th>675</th>\n",
       "      <td>Janet Jackson and Justin Timberlake's 'Nippleg...</td>\n",
       "      <td>\"Nipplegate\" occurred at Super Bowl XXXVIII's ...</td>\n",
       "      <td>3445</td>\n",
       "    </tr>\n",
       "  </tbody>\n",
       "</table>\n",
       "</div>"
      ],
      "text/plain": [
       "                                                 title  \\\n",
       "265  Justin Timberlake makes 'disgusting' comment o...   \n",
       "675  Janet Jackson and Justin Timberlake's 'Nippleg...   \n",
       "\n",
       "                                               summary group_no  \n",
       "265  Britney apologised to Justin Timberlake just 4...     3445  \n",
       "675  \"Nipplegate\" occurred at Super Bowl XXXVIII's ...     3445  "
      ]
     },
     "execution_count": 344,
     "metadata": {},
     "output_type": "execute_result"
    }
   ],
   "source": [
    "groupno_3445 = nested_df[nested_df['group_no'] == '3445']\n",
    "groupno_3445 = groupno_3445[['title','summary','group_no']]\n",
    "groupno_3445"
   ]
  },
  {
   "cell_type": "code",
   "execution_count": 338,
   "id": "c6aa25f0-cddd-478e-b057-516f529f688c",
   "metadata": {},
   "outputs": [],
   "source": [
    "nested_df.to_csv('clustering_news.csv', index = False)"
   ]
  }
 ],
 "metadata": {
  "kernelspec": {
   "display_name": "Python 3 (ipykernel)",
   "language": "python",
   "name": "python3"
  },
  "language_info": {
   "codemirror_mode": {
    "name": "ipython",
    "version": 3
   },
   "file_extension": ".py",
   "mimetype": "text/x-python",
   "name": "python",
   "nbconvert_exporter": "python",
   "pygments_lexer": "ipython3",
   "version": "3.9.18"
  }
 },
 "nbformat": 4,
 "nbformat_minor": 5
}
