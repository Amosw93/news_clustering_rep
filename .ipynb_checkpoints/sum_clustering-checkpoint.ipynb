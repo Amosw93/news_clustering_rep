{
 "cells": [
  {
   "cell_type": "code",
   "execution_count": 2,
   "id": "4b4e5602-27df-4238-b84d-6995a18b72fd",
   "metadata": {},
   "outputs": [
    {
     "data": {
      "text/plain": [
       "<transformers.pipelines.text2text_generation.SummarizationPipeline at 0x7fcd0034c0a0>"
      ]
     },
     "execution_count": 2,
     "metadata": {},
     "output_type": "execute_result"
    }
   ],
   "source": [
    "from transformers import pipeline\n",
    "\n",
    "# Read the trained t5 base model\n",
    "summarizer = pipeline('summarization', \n",
    "                      model = '/Users/amosmbp14/Jupyter notebook/Text_sum/t5_base_models')\n",
    "summarizer"
   ]
  },
  {
   "cell_type": "markdown",
   "id": "2ddcb5df-1871-4bdf-b117-7e31d5d9a723",
   "metadata": {},
   "source": [
    "Then, try a short piece of text to check the summarizer function."
   ]
  },
  {
   "cell_type": "code",
   "execution_count": 3,
   "id": "1f6d9567-0abf-4c7a-86f2-7abf1ddd5e13",
   "metadata": {},
   "outputs": [],
   "source": [
    "text = \"The Inflation Reduction Act lowers prescription drug costs, \\\n",
    "health care costs, and energy costs. It's the most aggressive action on \\\n",
    "tackling the climate crisis in American history, which will lift up American \\\n",
    "workers and create good-paying, union jobs across the country. \\\n",
    "It'll lower the deficit and ask the ultra-wealthy and corporations \\\n",
    "to pay their fair share. And no one making under $400,000 per year will \\\n",
    "pay a penny more in taxes.\""
   ]
  },
  {
   "cell_type": "code",
   "execution_count": null,
   "id": "74ed46f0-15ac-478d-a3a9-026c7d5721b0",
   "metadata": {},
   "outputs": [],
   "source": [
    "summarizer"
   ]
  }
 ],
 "metadata": {
  "kernelspec": {
   "display_name": "Python 3 (ipykernel)",
   "language": "python",
   "name": "python3"
  },
  "language_info": {
   "codemirror_mode": {
    "name": "ipython",
    "version": 3
   },
   "file_extension": ".py",
   "mimetype": "text/x-python",
   "name": "python",
   "nbconvert_exporter": "python",
   "pygments_lexer": "ipython3",
   "version": "3.9.18"
  }
 },
 "nbformat": 4,
 "nbformat_minor": 5
}
